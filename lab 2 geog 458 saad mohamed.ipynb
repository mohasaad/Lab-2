{
 "metadata": {
  "name": "lab 2 geog 458 saad mohamed.ipynb"
 },
 "nbformat": 3,
 "nbformat_minor": 0,
 "worksheets": [
  {
   "cells": [
    {
     "cell_type": "code",
     "collapsed": false,
     "input": [
      "#setup cell\n",
      "\n",
      "#sys.path.append('C:\\\\\\\\Program Files (x86)\\\\\\\\ArcGIS\\\\\\\\Desktop10.2\\\\\\\\bin'),\n",
      "#sys.path.append('C:\\\\\\\\Program Files (x86)\\\\\\\\ArcGIS\\\\\\\\Desktop10.2\\\\\\\\arcpy'),\n",
      "#sys.path.append('C:\\\\\\\\Program Files (x86)\\\\\\\\ArcGIS\\\\\\\\Desktop10.2\\\\\\\\ArcToolbox\\\\\\\\Scripts'),\n",
      "import arcpy\n",
      "#\n",
      "#"
     ],
     "language": "python",
     "metadata": {},
     "outputs": [],
     "prompt_number": 1
    },
    {
     "cell_type": "code",
     "collapsed": false,
     "input": [
      "#Inputs cell\n",
      "\n",
      "\n",
      "#input table\n",
      "RawData = arcpy.GetParameterAsText(0)  \n",
      "#output table\n",
      "NewData = arcpy.GetParameterAsText(1) \n",
      "#Definition table\n",
      "ClassTable = arcpy.GetParameterAsText(2) \n",
      "#Name of the new field I am making\n",
      "Outfield = arcpy.GetParameterAsText(3)\n",
      "#Name of the field I am encoding\n",
      "Target = arcpy.GetParameterAsText(4)"
     ],
     "language": "python",
     "metadata": {},
     "outputs": [],
     "prompt_number": 2
    },
    {
     "cell_type": "code",
     "collapsed": false,
     "input": [
      "arcpy.CopyFeatures_management(RawData, NewData) #RawData gets copied to NewData"
     ],
     "language": "python",
     "metadata": {},
     "outputs": [
      {
       "metadata": {},
       "output_type": "pyout",
       "prompt_number": 4,
       "text": [
        "<Result 'H:\\\\Saad Geoprocessing tools and services\\\\King\\\\CodedBlocks.shp'>"
       ]
      }
     ],
     "prompt_number": 4
    },
    {
     "cell_type": "markdown",
     "metadata": {},
     "source": [
      "So I have what will be written. I need to take my old data, the population density field, and code it according to the table I will be given, and write these new codes into a table for the census blocks.  That is what must be done."
     ]
    },
    {
     "cell_type": "markdown",
     "metadata": {},
     "source": [
      "First, I should write a code to learn the field names. HereI input ClassTable to get the names of the fields. "
     ]
    },
    {
     "cell_type": "code",
     "collapsed": false,
     "input": [
      "code_field_names = [f.name for f in arcpy.ListFields(ClassTable)]\n",
      "print code_field_names"
     ],
     "language": "python",
     "metadata": {},
     "outputs": [
      {
       "output_type": "stream",
       "stream": "stdout",
       "text": [
        "[u'OID', u'lowerbound', u'upperbound', u'value']\n"
       ]
      }
     ],
     "prompt_number": 5
    },
    {
     "cell_type": "markdown",
     "metadata": {},
     "source": [
      "So now I have my field names, so I make a search cursor that looks at items 1, 2, and 3 on the field code_field_names list to know what to look for. "
     ]
    },
    {
     "cell_type": "code",
     "collapsed": false,
     "input": [
      "LowerBounds = []\n",
      "UpperBounds = []\n",
      "Classes = []\n",
      "cursor = arcpy.da.SearchCursor(ClassTable, [code_field_names[1],code_field_names[2],code_field_names[3],])\n",
      "for row in cursor:\n",
      "    LowerBounds.append(row[0])\n",
      "    UpperBounds.append(row[1])\n",
      "    Classes.append(row[2])\n",
      "print LowerBounds\n",
      "print UpperBounds\n",
      "print Classes\n",
      "\n",
      "del cursor\n",
      "del row"
     ],
     "language": "python",
     "metadata": {},
     "outputs": [
      {
       "output_type": "stream",
       "stream": "stdout",
       "text": [
        "[0.0, 100.0, 1200.0, 4000.0]\n",
        "[100.0, 800.0, 4000.0, 100000.0]\n",
        "[1.0, 2.0, 3.0, 4.0]\n"
       ]
      }
     ],
     "prompt_number": 6
    },
    {
     "cell_type": "markdown",
     "metadata": {},
     "source": [
      "So now I have 3 lists, LowerBounds, UpperBounds, and Classes who indexes correspond to a class, calling each list to those those indexes calls to those classes. I need to input outfield to determine the name of this field."
     ]
    },
    {
     "cell_type": "code",
     "collapsed": false,
     "input": [
      "#Add a field for the classes to interpret the integer \n",
      "\n",
      "arcpy.AddField_management(NewData, Outfield, \"LONG\")"
     ],
     "language": "python",
     "metadata": {},
     "outputs": [
      {
       "metadata": {},
       "output_type": "pyout",
       "prompt_number": 7,
       "text": [
        "<Result 'H:\\\\Saad Geoprocessing tools and services\\\\King\\\\CodedBlocks.dbf'>"
       ]
      }
     ],
     "prompt_number": 7
    },
    {
     "cell_type": "markdown",
     "metadata": {},
     "source": [
      "So now I have my lists of boundries and classes and a field to code the data into.  So now I need an input to determine what field I am encoding into the Outfield. Input is called Target to represent the target field.  I then run an update cursor that looks at Target and Outfield, if  is between LowerBound[x] <= Target < UpperBound[X], print Classes[X] to Outfield"
     ]
    },
    {
     "cell_type": "code",
     "collapsed": false,
     "input": [
      "#This is to get the count of classes so I know how long to run\n",
      "result = arcpy.GetCount_management(ClassTable)\n",
      "count = int(result.getOutput(0)) #drop the count by 1 since \n",
      "print count"
     ],
     "language": "python",
     "metadata": {},
     "outputs": [
      {
       "output_type": "stream",
       "stream": "stdout",
       "text": [
        "4\n"
       ]
      }
     ],
     "prompt_number": 9
    },
    {
     "cell_type": "markdown",
     "metadata": {},
     "source": [
      "I need the cursor to look at each row and compare the target value to the range.  If the target value doesn't fall in the range, it should return 9999.....I plan to increment the value of x up through each pass, but first I should make sure its in the range I was given."
     ]
    },
    {
     "cell_type": "code",
     "collapsed": false,
     "input": [
      "x = 0\n",
      "cursor = arcpy.da.UpdateCursor(NewData, [Target, Outfield])  \n",
      "\n",
      "#mouse = Targetvalue\n",
      "\n",
      "for row in cursor:\n",
      "    for x in range(count):\n",
      "        if (row[0] >= LowerBounds[x] and row[0] < UpperBounds[x]):\n",
      "            row[1] = Classes[x]\n",
      "        elif row[1] == 0:\n",
      "            row[1] = 9999\n",
      "        \n",
      "    cursor.updateRow(row)\n",
      "del row\n",
      "del cursor"
     ],
     "language": "python",
     "metadata": {},
     "outputs": [],
     "prompt_number": 28
    },
    {
     "cell_type": "code",
     "collapsed": false,
     "input": [
      "\n"
     ],
     "language": "python",
     "metadata": {},
     "outputs": [
      {
       "output_type": "stream",
       "stream": "stdout",
       "text": [
        "0\n",
        "4\n",
        "1\n",
        "4\n",
        "2\n",
        "4\n",
        "3\n",
        "4\n"
       ]
      }
     ],
     "prompt_number": 14
    },
    {
     "cell_type": "code",
     "collapsed": false,
     "input": [],
     "language": "python",
     "metadata": {},
     "outputs": []
    }
   ],
   "metadata": {}
  }
 ]
}